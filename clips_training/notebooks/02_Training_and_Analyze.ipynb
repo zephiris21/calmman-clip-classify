{
 "cells": [
  {
   "cell_type": "code",
   "execution_count": 1,
   "metadata": {},
   "outputs": [
    {
     "name": "stdout",
     "output_type": "stream",
     "text": [
      "=== 텐션 분석기 시작 ===\n",
      "✅ Python 버전: 3.11.11 | packaged by Anaconda, Inc. | (main, Dec 11 2024, 16:34:19) [MSC v.1929 64 bit (AMD64)]\n",
      "✅ 현재 디렉토리: d:\\my_projects\\funny_clip_classify\n",
      "✅ yaml 임포트 완료\n",
      "✅ h5py 임포트 완료\n",
      "✅ numpy 임포트 완료\n",
      "✅ 모든 라이브러리 임포트 완료\n",
      "✅ 모든 모듈 import 완료\n"
     ]
    }
   ],
   "source": [
    "import sys\n",
    "import os\n",
    "from pathlib import Path\n",
    "import warnings\n",
    "import pandas as pd\n",
    "import matplotlib.pyplot as plt\n",
    "import json\n",
    "warnings.filterwarnings('ignore')\n",
    "\n",
    "current_dir = Path.cwd()\n",
    "project_root = current_dir.parent.parent\n",
    "os.chdir(project_root) # 프로젝트 루트로 이동\n",
    "\n",
    "sys.path.insert(0, str(project_root))\n",
    "from clips_training.src.models.trainer import XGBoostTrainer\n",
    "from clips_training.src.analysis.model_analyzer import ModelAnalyzer\n",
    "from clips_training.src.utils.training_utils import TrainingUtils\n",
    "print(\"✅ 모든 모듈 import 완료\")\n",
    "\n",
    "import matplotlib.pyplot as plt\n",
    "plt.rcParams['font.family'] = 'Malgun Gothic'\n",
    "plt.rcParams['axes.unicode_minus'] = False"
   ]
  },
  {
   "cell_type": "code",
   "execution_count": 4,
   "metadata": {},
   "outputs": [
    {
     "name": "stderr",
     "output_type": "stream",
     "text": [
      "2025-06-12 18:32:58,846 - ClipsTraining - INFO - 📄 학습 로그 파일: clips_training\\logs\\training_20250612_183258.log\n",
      "2025-06-12 18:32:58,847 - ClipsTraining - INFO - ✅ XGBoost 학습기 초기화 완료\n",
      "2025-06-12 18:32:58,849 - ClipsTraining - INFO - 📊 데이터셋 기본 분석:\n",
      "2025-06-12 18:32:58,850 - ClipsTraining - INFO -    샘플 수: 100 (Boring: 48, Funny: 52)\n",
      "2025-06-12 18:32:58,850 - ClipsTraining - INFO -    특징 수: 112\n",
      "2025-06-12 18:32:58,851 - ClipsTraining - INFO -    클래스 균형: ✅ (Funny 비율: 52.0%)\n",
      "2025-06-12 18:32:58,852 - ClipsTraining - INFO - ✅ 데이터 스케일링 완료: standard\n",
      "2025-06-12 18:32:58,853 - ClipsTraining - INFO - 📊 데이터 분할 완료:\n",
      "2025-06-12 18:32:58,881 - ClipsTraining - INFO -    학습셋: 80개 (Boring: 38, Funny: 42)\n",
      "2025-06-12 18:32:58,881 - ClipsTraining - INFO -    테스트셋: 20개 (Boring: 10, Funny: 10)\n",
      "2025-06-12 18:32:58,882 - ClipsTraining - INFO - 🔄 5-fold 교차 검증 시작...\n"
     ]
    },
    {
     "name": "stdout",
     "output_type": "stream",
     "text": [
      "✅ 설정 파일 로드: clips_training/configs/training_config.yaml\n",
      "✅ 학습 설정 파일 로드: clips_training/configs/training_config.yaml\n",
      "📁 학습용 출력 디렉토리 생성 완료: clips_training\n",
      "   타겟 모델 디렉토리: config1\n",
      "\n",
      "============================================================\n",
      "🤖 데이터 로드\n",
      "📋 dataset.h5에서 학습 데이터 로드\n",
      "============================================================\n",
      "✅ 데이터셋 로드 완료:\n",
      "   설정: config1\n",
      "   샘플 수: 100\n",
      "   특징 차원: 112\n",
      "   클래스 분포: [48 52]\n",
      "✅ 특징명 생성 완료:\n",
      "   config1: 4구간 × 28차원 = 112차원\n",
      "\n",
      "✅ 데이터 로드 완료!\n",
      "📊 샘플: 100, 특징: 112, 균형: True\n",
      "\n",
      "============================================================\n",
      "🤖 데이터 분할\n",
      "📋 학습/테스트 셋 분할 및 전처리\n",
      "============================================================\n",
      "\n",
      "✅ 데이터 분할 완료!\n",
      "📊 학습: 80, 테스트: 20\n",
      "\n",
      "============================================================\n",
      "🤖 모델 학습\n",
      "📋 XGBoost 학습 및 5-fold 교차 검증\n",
      "============================================================\n"
     ]
    },
    {
     "name": "stderr",
     "output_type": "stream",
     "text": [
      "2025-06-12 18:33:01,124 - ClipsTraining - INFO - 🎯 전체 학습 데이터로 최종 모델 학습...\n",
      "2025-06-12 18:33:01,225 - ClipsTraining - INFO - ✅ 교차 검증 완료:\n",
      "2025-06-12 18:33:01,226 - ClipsTraining - INFO -    평균 정확도: 0.8500 (±0.0935)\n",
      "2025-06-12 18:33:01,227 - ClipsTraining - INFO -    개별 점수: ['0.9375', '0.8125', '0.9375', '0.6875', '0.8750']\n",
      "2025-06-12 18:33:01,227 - ClipsTraining - INFO -    CV 시간: 2.24초\n",
      "2025-06-12 18:33:01,228 - ClipsTraining - INFO -    최종 학습 시간: 0.10초\n",
      "2025-06-12 18:33:01,233 - ClipsTraining - INFO - 📊 테스트 셋 성능 평가:\n",
      "2025-06-12 18:33:01,234 - ClipsTraining - INFO -    정확도: 0.9000\n",
      "2025-06-12 18:33:01,234 - ClipsTraining - INFO -    정밀도: 1.0000\n",
      "2025-06-12 18:33:01,235 - ClipsTraining - INFO -    재현율: 0.8000\n",
      "2025-06-12 18:33:01,235 - ClipsTraining - INFO -    F1-score: 0.8889\n",
      "2025-06-12 18:33:01,235 - ClipsTraining - INFO -    ROC-AUC: 0.9900\n",
      "2025-06-12 18:33:01,236 - ClipsTraining - INFO - 🎯 상위 5개 중요 특징:\n",
      "2025-06-12 18:33:01,237 - ClipsTraining - INFO -    1. segment4_tension_max: 0.0900\n",
      "2025-06-12 18:33:01,237 - ClipsTraining - INFO -    2. segment4_emotion_valence_mean: 0.0825\n",
      "2025-06-12 18:33:01,238 - ClipsTraining - INFO -    3. segment4_tension_mean: 0.0710\n",
      "2025-06-12 18:33:01,238 - ClipsTraining - INFO -    4. segment2_emotion_neutral_mean: 0.0613\n",
      "2025-06-12 18:33:01,239 - ClipsTraining - INFO -    5. segment2_emotion_happiness_std: 0.0500\n",
      "2025-06-12 18:33:01,239 - ClipsTraining - INFO - 📋 분류 보고서:\n",
      "2025-06-12 18:33:01,243 - ClipsTraining - INFO -                  precision    recall  f1-score   support\n",
      "2025-06-12 18:33:01,243 - ClipsTraining - INFO -          Boring       0.83      1.00      0.91        10\n",
      "2025-06-12 18:33:01,244 - ClipsTraining - INFO -           Funny       1.00      0.80      0.89        10\n",
      "2025-06-12 18:33:01,244 - ClipsTraining - INFO -        accuracy                           0.90        20\n",
      "2025-06-12 18:33:01,244 - ClipsTraining - INFO -       macro avg       0.92      0.90      0.90        20\n",
      "2025-06-12 18:33:01,245 - ClipsTraining - INFO -    weighted avg       0.92      0.90      0.90        20\n",
      "2025-06-12 18:33:01,249 - ClipsTraining - INFO - \n",
      "🎉 전체 파이프라인 완료! (총 2.4초)\n",
      "2025-06-12 18:33:01,249 - ClipsTraining - INFO - 📊 최종 성능 요약:\n",
      "2025-06-12 18:33:01,250 - ClipsTraining - INFO -    CV 정확도: 0.8500\n",
      "2025-06-12 18:33:01,250 - ClipsTraining - INFO -    테스트 정확도: 0.9000\n",
      "2025-06-12 18:33:01,250 - ClipsTraining - INFO -    F1-Score: 0.8889\n",
      "2025-06-12 18:33:01,251 - ClipsTraining - INFO -    가장 중요한 특징: segment4_tension_max\n"
     ]
    },
    {
     "name": "stdout",
     "output_type": "stream",
     "text": [
      "\n",
      "✅ 모델 학습 완료!\n",
      "📊 CV 정확도: 0.8500 (±0.0935)\n",
      "\n",
      "============================================================\n",
      "🤖 모델 평가\n",
      "📋 테스트 셋 성능 평가 및 피처 중요도 분석\n",
      "============================================================\n",
      "\n",
      "✅ 모델 평가 완료!\n",
      "📊 정확도: 0.9000, F1: 0.8889\n",
      "\n",
      "============================================================\n",
      "🤖 결과 저장\n",
      "📋 모델 및 성능 지표 저장\n",
      "============================================================\n",
      "💾 모델 아티팩트 저장 완료:\n",
      "   model: clips_training\\models\\config1\\xgboost_config1_20250612_183301.pkl\n",
      "   scaler: clips_training\\models\\config1\\scaler_config1_20250612_183301.pkl\n",
      "   feature_names: clips_training\\models\\config1\\feature_names_config1_20250612_183301.json\n",
      "   metrics: clips_training\\results\\metrics_config1_20250612_183301.json\n",
      "\n",
      "✅ 결과 저장 완료!\n",
      "📊 4개 파일 저장 완료\n",
      "\n",
      "🎉 학습 완료!\n",
      "📊 테스트 정확도: 0.900\n",
      "🏆 최고 특징: segment4_tension_max\n"
     ]
    }
   ],
   "source": [
    "trainer = XGBoostTrainer()\n",
    "results = trainer.run_full_pipeline()\n",
    "\n",
    "print(f\"\\n🎉 학습 완료!\")\n",
    "print(f\"📊 테스트 정확도: {results['test_metrics']['test_accuracy']:.3f}\")\n",
    "print(f\"🏆 최고 특징: {results['test_metrics']['top_features']['names'][0]}\")"
   ]
  },
  {
   "cell_type": "code",
   "execution_count": 2,
   "metadata": {},
   "outputs": [
    {
     "name": "stdout",
     "output_type": "stream",
     "text": [
      "✅ 설정 파일 로드: clips_training/configs/training_config.yaml\n",
      "✅ 학습 설정 파일 로드: clips_training/configs/training_config.yaml\n",
      "📁 학습용 출력 디렉토리 생성 완료: clips_training\n",
      "   타겟 모델 디렉토리: config1\n",
      "📊 모델 성능 요약\n",
      "==============================\n",
      "CV 정확도: 0.850\n",
      "테스트 정확도: 0.900\n",
      "F1-Score: 0.889\n",
      "ROC-AUC: 0.990\n",
      "\n",
      "🏆 상위 5개 특징:\n",
      "   1. segment4_tension_max\n",
      "   2. segment4_emotion_valence_mean\n",
      "   3. segment4_tension_mean\n",
      "   4. segment2_emotion_neutral_mean\n",
      "   5. segment2_emotion_happiness_std\n"
     ]
    }
   ],
   "source": [
    "config = TrainingUtils.load_training_config()\n",
    "output_dirs = TrainingUtils.setup_training_directories(config)\n",
    "\n",
    "# 최신 결과 로드\n",
    "results_dir = Path(output_dirs['results'])\n",
    "metrics_files = list(results_dir.glob(\"metrics_*.json\"))\n",
    "latest_file = max(metrics_files, key=lambda x: x.stat().st_ctime)\n",
    "\n",
    "with open(latest_file, 'r', encoding='utf-8') as f:\n",
    "    metrics = json.load(f)\n",
    "\n",
    "test_perf = metrics['test_performance']\n",
    "cv_perf = metrics['cross_validation']\n",
    "\n",
    "print(\"📊 모델 성능 요약\")\n",
    "print(\"=\" * 30)\n",
    "print(f\"CV 정확도: {cv_perf['cv_mean']:.3f}\")\n",
    "print(f\"테스트 정확도: {test_perf['test_accuracy']:.3f}\")\n",
    "print(f\"F1-Score: {test_perf['test_f1']:.3f}\")\n",
    "print(f\"ROC-AUC: {test_perf['test_roc_auc']:.3f}\")\n",
    "\n",
    "print(f\"\\n🏆 상위 5개 특징:\")\n",
    "for i, name in enumerate(test_perf['top_features']['names'][:5]):\n",
    "    print(f\"   {i+1}. {name}\")"
   ]
  },
  {
   "cell_type": "code",
   "execution_count": 5,
   "metadata": {},
   "outputs": [
    {
     "name": "stdout",
     "output_type": "stream",
     "text": [
      "✅ 설정 파일 로드: clips_training/configs/training_config.yaml\n",
      "✅ 학습 설정 파일 로드: clips_training/configs/training_config.yaml\n",
      "📁 학습용 출력 디렉토리 생성 완료: clips_training\n",
      "   타겟 모델 디렉토리: config1\n",
      "📊 시각화 스타일 설정 완료 (크기: [12, 8], DPI: 150)\n",
      "✅ 모델 분석기 초기화 완료\n"
     ]
    }
   ],
   "source": [
    "analyzer = ModelAnalyzer()"
   ]
  },
  {
   "cell_type": "code",
   "execution_count": 6,
   "metadata": {},
   "outputs": [
    {
     "name": "stdout",
     "output_type": "stream",
     "text": [
      "\n",
      "🎨 모델 성능 분석 및 시각화 시작\n",
      "==================================================\n",
      "📂 최신 학습 결과 로드 중...\n",
      "✅ 결과 로드 완료:\n",
      "   모델: xgboost_config1_20250612_183301.pkl\n",
      "   성능 지표: metrics_config1_20250612_183301.json\n",
      "   특징 수: 112\n",
      "📁 분석 결과 저장 디렉토리: clips_training\\results\\analysis_config1_20250612_183333\n",
      "📊 테스트 데이터 로드 중...\n",
      "✅ 데이터셋 로드 완료:\n",
      "   설정: config1\n",
      "   샘플 수: 100\n",
      "   특징 차원: 112\n",
      "   클래스 분포: [48 52]\n",
      "📈 혼동행렬 생성 중...\n",
      "💾 혼동행렬 저장: clips_training\\results\\analysis_config1_20250612_183333\\confusion_matrix.png\n",
      "📈 ROC 곡선 생성 중...\n",
      "💾 ROC 곡선 저장: clips_training\\results\\analysis_config1_20250612_183333\\roc_curve.png\n",
      "📈 피처 중요도 차트 생성 중...\n",
      "💾 피처 중요도 저장: clips_training\\results\\analysis_config1_20250612_183333\\feature_importance.png\n",
      "📈 성능 대시보드 생성 중...\n",
      "💾 성능 대시보드 저장: clips_training\\results\\analysis_config1_20250612_183333\\performance_dashboard.png\n",
      "\n",
      "✅ 분석 완료!\n",
      "📁 결과 저장 위치: clips_training\\results\\analysis_config1_20250612_183333\n",
      "📊 생성된 차트: 4개\n",
      "🏆 최고 성능: Test Accuracy 0.900\n"
     ]
    },
    {
     "data": {
      "text/plain": [
       "{'confusion_matrix': 'clips_training\\\\results\\\\analysis_config1_20250612_183333\\\\confusion_matrix.png',\n",
       " 'roc_curve': 'clips_training\\\\results\\\\analysis_config1_20250612_183333\\\\roc_curve.png',\n",
       " 'feature_importance': 'clips_training\\\\results\\\\analysis_config1_20250612_183333\\\\feature_importance.png',\n",
       " 'performance_dashboard': 'clips_training\\\\results\\\\analysis_config1_20250612_183333\\\\performance_dashboard.png',\n",
       " 'summary': 'clips_training\\\\results\\\\analysis_config1_20250612_183333\\\\analysis_summary.json'}"
      ]
     },
     "execution_count": 6,
     "metadata": {},
     "output_type": "execute_result"
    }
   ],
   "source": [
    "analyzer.analyze_and_save_all()"
   ]
  },
  {
   "cell_type": "code",
   "execution_count": null,
   "metadata": {},
   "outputs": [],
   "source": []
  }
 ],
 "metadata": {
  "kernelspec": {
   "display_name": "calmman-gpu",
   "language": "python",
   "name": "python3"
  },
  "language_info": {
   "codemirror_mode": {
    "name": "ipython",
    "version": 3
   },
   "file_extension": ".py",
   "mimetype": "text/x-python",
   "name": "python",
   "nbconvert_exporter": "python",
   "pygments_lexer": "ipython3",
   "version": "3.11.11"
  }
 },
 "nbformat": 4,
 "nbformat_minor": 2
}
